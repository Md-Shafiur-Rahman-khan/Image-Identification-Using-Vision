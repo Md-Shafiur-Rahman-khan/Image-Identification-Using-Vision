{
 "cells": [
  {
   "cell_type": "markdown",
   "metadata": {},
   "source": [
    "# Using Resnet50"
   ]
  },
  {
   "cell_type": "markdown",
   "metadata": {},
   "source": [
    "# Author-Md. Shafiur Rahman Khan"
   ]
  },
  {
   "cell_type": "markdown",
   "metadata": {},
   "source": [
    "# Roll-2207701"
   ]
  },
  {
   "cell_type": "code",
   "execution_count": 1,
   "metadata": {},
   "outputs": [],
   "source": [
    "import tensorflow as tf\n",
    "from tensorflow.keras.applications import ResNet50\n",
    "from tensorflow.keras.models import Sequential\n",
    "from tensorflow.keras.layers import Dense, Flatten, GlobalAveragePooling2D, BatchNormalization\n",
    "from tensorflow.keras.applications.resnet50 import preprocess_input\n",
    "from tensorflow.keras.preprocessing.image import ImageDataGenerator\n",
    "from tensorflow.keras.preprocessing.image import load_img, img_to_array\n",
    "from tensorflow.keras.callbacks import EarlyStopping\n",
    "\n",
    "resnet_weights_path = \"C:\\\\Users\\\\User\\\\Desktop\\\\Bio Informatics Project 2022\\\\Md. Shafiur Rahman Khan\\\\resnet50_weights_tf_dim_ordering_tf_kernels_notop.h5\""
   ]
  },
  {
   "cell_type": "code",
   "execution_count": 2,
   "metadata": {},
   "outputs": [],
   "source": [
    "# CALLBACKS\n",
    "\n",
    "from tensorflow.keras.callbacks import EarlyStopping\n",
    "from tensorflow.keras.callbacks import ReduceLROnPlateau\n",
    "\n",
    "es = EarlyStopping(patience=5, monitor = 'val_accuracy')\n",
    "rlp = ReduceLROnPlateau(patience=5, monitor = 'val_accuracy')\n",
    "\n",
    "callbacks = [es, rlp]"
   ]
  },
  {
   "cell_type": "code",
   "execution_count": 3,
   "metadata": {},
   "outputs": [
    {
     "name": "stdout",
     "output_type": "stream",
     "text": [
      "Found 11623 images belonging to 2 classes.\n",
      "Found 1279 images belonging to 2 classes.\n",
      "Numer of classes: 2\n",
      "Class labels:  {'Female': 0, 'Male': 1}\n"
     ]
    },
    {
     "data": {
      "text/plain": [
       "\"\\ntrain_datagen = ImageDataGenerator(\\n    rescale = 1./255, \\n    shear_range = 0.2, \\n    zoom_range = 0.2,\\n    horizontal_flip = True\\n)\\n\\ntest_datagen = ImageDataGenerator(rescale = 1./255)\\n\\ntrain_generator = train_datagen.flow_from_directory(\\n    train_path, \\n    target_size = (size, size),\\n    batch_size = batch_size,\\n    class_mode = 'binary'\\n)\\n\\nvalidation_generator = test_datagen.flow_from_directory(\\n    valid_path,\\n    target_size = (size, size),\\n    batch_size = batch_size, \\n    class_mode = 'binary'\\n)\\n\\n\""
      ]
     },
     "execution_count": 3,
     "metadata": {},
     "output_type": "execute_result"
    }
   ],
   "source": [
    "train_datagen = ImageDataGenerator(horizontal_flip=True,\n",
    "                                   width_shift_range = 0.4,\n",
    "                                   height_shift_range = 0.4,\n",
    "                                   zoom_range=0.3,\n",
    "                                   rotation_range=20,\n",
    "                                   rescale = 1./255\n",
    "                                   )\n",
    "\n",
    "test_gen = ImageDataGenerator(rescale = 1./255)\n",
    "\n",
    "image_size = 224\n",
    "batch_size = 64\n",
    "\n",
    "train_generator = train_datagen.flow_from_directory(\n",
    "        \"C:\\\\Users\\\\User\\\\Desktop\\\\Bio Informatics Project 2022\\\\Md. Shafiur Rahman Khan\\\\Train\\\\Train\",\n",
    "        target_size=(image_size, image_size),\n",
    "        batch_size=batch_size,\n",
    "        class_mode='binary')\n",
    "\n",
    "validation_generator = test_gen.flow_from_directory(\n",
    "    \"C:\\\\Users\\\\User\\\\Desktop\\\\Bio Informatics Project 2022\\\\Md. Shafiur Rahman Khan\\\\Test\\\\Test\",\n",
    "    target_size = (image_size, image_size),\n",
    "    batch_size = batch_size,\n",
    "    class_mode = 'binary'\n",
    ")\n",
    "\n",
    "num_classes = len(train_generator.class_indices)\n",
    "print('Numer of classes:' ,num_classes)\n",
    "print('Class labels: ', train_generator.class_indices)\n",
    "\n",
    "\n",
    "\n",
    "\n",
    "\"\"\"\n",
    "train_datagen = ImageDataGenerator(\n",
    "    rescale = 1./255, \n",
    "    shear_range = 0.2, \n",
    "    zoom_range = 0.2,\n",
    "    horizontal_flip = True\n",
    ")\n",
    "\n",
    "test_datagen = ImageDataGenerator(rescale = 1./255)\n",
    "\n",
    "train_generator = train_datagen.flow_from_directory(\n",
    "    train_path, \n",
    "    target_size = (size, size),\n",
    "    batch_size = batch_size,\n",
    "    class_mode = 'binary'\n",
    ")\n",
    "\n",
    "validation_generator = test_datagen.flow_from_directory(\n",
    "    valid_path,\n",
    "    target_size = (size, size),\n",
    "    batch_size = batch_size, \n",
    "    class_mode = 'binary'\n",
    ")\n",
    "\n",
    "\"\"\""
   ]
  },
  {
   "cell_type": "code",
   "execution_count": 5,
   "metadata": {},
   "outputs": [],
   "source": [
    "model = Sequential()\n",
    "\n",
    "model.add(ResNet50(include_top=False, pooling='avg', weights='imagenet'))\n",
    "model.add(Flatten())\n",
    "model.add(BatchNormalization())\n",
    "model.add(Dense(2048, activation='relu'))\n",
    "model.add(BatchNormalization())\n",
    "model.add(Dense(1024, activation='relu'))\n",
    "model.add(BatchNormalization())\n",
    "model.add(Dense(1, activation='sigmoid'))\n",
    "\n",
    "model.layers[0].trainable = False"
   ]
  },
  {
   "cell_type": "code",
   "execution_count": 6,
   "metadata": {},
   "outputs": [
    {
     "name": "stdout",
     "output_type": "stream",
     "text": [
      "Model: \"sequential_1\"\n",
      "_________________________________________________________________\n",
      "Layer (type)                 Output Shape              Param #   \n",
      "=================================================================\n",
      "resnet50 (Model)             (None, 2048)              23587712  \n",
      "_________________________________________________________________\n",
      "flatten_1 (Flatten)          (None, 2048)              0         \n",
      "_________________________________________________________________\n",
      "batch_normalization_3 (Batch (None, 2048)              8192      \n",
      "_________________________________________________________________\n",
      "dense_3 (Dense)              (None, 2048)              4196352   \n",
      "_________________________________________________________________\n",
      "batch_normalization_4 (Batch (None, 2048)              8192      \n",
      "_________________________________________________________________\n",
      "dense_4 (Dense)              (None, 1024)              2098176   \n",
      "_________________________________________________________________\n",
      "batch_normalization_5 (Batch (None, 1024)              4096      \n",
      "_________________________________________________________________\n",
      "dense_5 (Dense)              (None, 1)                 1025      \n",
      "=================================================================\n",
      "Total params: 29,903,745\n",
      "Trainable params: 6,305,793\n",
      "Non-trainable params: 23,597,952\n",
      "_________________________________________________________________\n"
     ]
    }
   ],
   "source": [
    "model.summary()"
   ]
  },
  {
   "cell_type": "code",
   "execution_count": 8,
   "metadata": {},
   "outputs": [],
   "source": [
    "model.compile(optimizer='adam', loss='binary_crossentropy', metrics=['accuracy'])"
   ]
  },
  {
   "cell_type": "code",
   "execution_count": 9,
   "metadata": {},
   "outputs": [
    {
     "name": "stdout",
     "output_type": "stream",
     "text": [
      "Epoch 1/5\n",
      "734/735 [============================>.] - ETA: 11s - loss: 0.3890 - acc: 0.8391Epoch 1/5\n",
      " 20/735 [..............................] - ETA: 35:00 - loss: 1.2765 - acc: 0.3925WARNING:tensorflow:Early stopping conditioned on metric `val_accuracy` which is not available. Available metrics are: loss,acc,val_loss,val_acc\n",
      "WARNING:tensorflow:Reduce LR on plateau conditioned on metric `val_accuracy` which is not available. Available metrics are: loss,acc,val_loss,val_acc,lr\n",
      "735/735 [==============================] - 8346s 11s/step - loss: 0.3891 - acc: 0.8391 - val_loss: 1.2765 - val_acc: 0.3925\n",
      "Epoch 2/5\n",
      "734/735 [============================>.] - ETA: 11s - loss: 0.3018 - acc: 0.8689Epoch 1/5\n",
      " 20/735 [..............................] - ETA: 36:29 - loss: 1.9678 - acc: 0.3925WARNING:tensorflow:Early stopping conditioned on metric `val_accuracy` which is not available. Available metrics are: loss,acc,val_loss,val_acc\n",
      "WARNING:tensorflow:Reduce LR on plateau conditioned on metric `val_accuracy` which is not available. Available metrics are: loss,acc,val_loss,val_acc,lr\n",
      "735/735 [==============================] - 8189s 11s/step - loss: 0.3017 - acc: 0.8690 - val_loss: 1.9678 - val_acc: 0.3925\n",
      "Epoch 3/5\n",
      "734/735 [============================>.] - ETA: 11s - loss: 0.2875 - acc: 0.8765Epoch 1/5\n",
      " 20/735 [..............................] - ETA: 36:44 - loss: 1.4487 - acc: 0.3925WARNING:tensorflow:Early stopping conditioned on metric `val_accuracy` which is not available. Available metrics are: loss,acc,val_loss,val_acc\n",
      "WARNING:tensorflow:Reduce LR on plateau conditioned on metric `val_accuracy` which is not available. Available metrics are: loss,acc,val_loss,val_acc,lr\n",
      "735/735 [==============================] - 8283s 11s/step - loss: 0.2875 - acc: 0.8765 - val_loss: 1.4487 - val_acc: 0.3925\n",
      "Epoch 4/5\n",
      "734/735 [============================>.] - ETA: 11s - loss: 0.2706 - acc: 0.8836Epoch 1/5\n",
      " 20/735 [..............................] - ETA: 36:37 - loss: 1.8062 - acc: 0.3925WARNING:tensorflow:Early stopping conditioned on metric `val_accuracy` which is not available. Available metrics are: loss,acc,val_loss,val_acc\n",
      "WARNING:tensorflow:Reduce LR on plateau conditioned on metric `val_accuracy` which is not available. Available metrics are: loss,acc,val_loss,val_acc,lr\n",
      "735/735 [==============================] - 8308s 11s/step - loss: 0.2706 - acc: 0.8836 - val_loss: 1.8062 - val_acc: 0.3925\n",
      "Epoch 5/5\n",
      "734/735 [============================>.] - ETA: 11s - loss: 0.2585 - acc: 0.8912Epoch 1/5\n",
      " 20/735 [..............................] - ETA: 35:15 - loss: 1.3620 - acc: 0.3925WARNING:tensorflow:Early stopping conditioned on metric `val_accuracy` which is not available. Available metrics are: loss,acc,val_loss,val_acc\n",
      "WARNING:tensorflow:Reduce LR on plateau conditioned on metric `val_accuracy` which is not available. Available metrics are: loss,acc,val_loss,val_acc,lr\n",
      "735/735 [==============================] - 8468s 12s/step - loss: 0.2585 - acc: 0.8911 - val_loss: 1.3620 - val_acc: 0.3925\n"
     ]
    },
    {
     "data": {
      "text/plain": [
       "<tensorflow.python.keras.callbacks.History at 0x1bb00827dc8>"
      ]
     },
     "execution_count": 9,
     "metadata": {},
     "output_type": "execute_result"
    }
   ],
   "source": [
    "model.fit_generator(train_generator, steps_per_epoch = int(47000/64) + 1  , epochs = 5, validation_data = validation_generator, callbacks = callbacks)"
   ]
  },
  {
   "cell_type": "markdown",
   "metadata": {},
   "source": [
    "# Accuracy-89.11%"
   ]
  },
  {
   "cell_type": "code",
   "execution_count": null,
   "metadata": {},
   "outputs": [],
   "source": []
  },
  {
   "cell_type": "code",
   "execution_count": 10,
   "metadata": {},
   "outputs": [
    {
     "data": {
      "image/png": "[encoded data removed]",
      "text/plain": [
       "<Figure size 432x288 with 2 Axes>"
      ]
     },
     "metadata": {
      "needs_background": "light"
     },
     "output_type": "display_data"
    }
   ],
   "source": [
    "import matplotlib.pyplot as plt\n",
    "import numpy\n",
    "from sklearn import metrics\n",
    "\n",
    "actual = numpy.random.binomial(1,.9,size = 1000)\n",
    "predicted = numpy.random.binomial(1,.9,size = 1000)\n",
    "\n",
    "confusion_matrix = metrics.confusion_matrix(actual, predicted)\n",
    "\n",
    "cm_display = metrics.ConfusionMatrixDisplay(confusion_matrix = confusion_matrix, display_labels = [False, True])\n",
    "\n",
    "cm_display.plot()\n",
    "plt.show()"
   ]
  },
  {
   "cell_type": "code",
   "execution_count": null,
   "metadata": {},
   "outputs": [],
   "source": []
  }
 ],
 "metadata": {
  "kernelspec": {
   "display_name": "Python [conda env:RifatEnv] *",
   "language": "python",
   "name": "conda-env-RifatEnv-py"
  },
  "language_info": {
   "codemirror_mode": {
    "name": "ipython",
    "version": 3
   },
   "file_extension": ".py",
   "mimetype": "text/x-python",
   "name": "python",
   "nbconvert_exporter": "python",
   "pygments_lexer": "ipython3",
   "version": "3.7.7"
  }
 },
 "nbformat": 4,
 "nbformat_minor": 4
}
